{
 "cells": [
  {
   "cell_type": "code",
   "execution_count": 7,
   "metadata": {
    "ExecuteTime": {
     "end_time": "2019-02-11T21:59:16.677478Z",
     "start_time": "2019-02-11T21:59:16.650547Z"
    }
   },
   "outputs": [],
   "source": [
    "import os\n",
    "import ipywidgets as widgets\n",
    "from ipywidgets import interact, interactive"
   ]
  },
  {
   "cell_type": "markdown",
   "metadata": {},
   "source": [
    "List of Resource Models (RM)"
   ]
  },
  {
   "cell_type": "code",
   "execution_count": 10,
   "metadata": {},
   "outputs": [],
   "source": [
    "remote_source_files = {\n",
    "    \"MAPSS\": \"https://raw.githubusercontent.com/achp-project/prj-mapss/main/pkg/graphs/Heritage%20Place%20(3).json\",\n",
    "    \"MAHS\": \"https://raw.githubusercontent.com/achp-project/prj-mahs/main/Site.json\",\n",
    "    \"MAHSA\": \"https://raw.githubusercontent.com/achp-project/prj-mahsa/main/resource-models/Heritage%20Location%20Resource%20Model.json\",\n",
    "    \"MAEASAM\": \"https://raw.githubusercontent.com/achp-project/prj-maeasam/main/Site.json\",\n",
    "    \"EAMENA\": \"https://raw.githubusercontent.com/achp-project/prj-eamena-marea/main/resource_models/Heritage%20Place.json\",\n",
    "}\n",
    "# print(type(github_urls))"
   ]
  },
  {
   "cell_type": "markdown",
   "metadata": {},
   "source": [
    "Select two or more RMs to compare"
   ]
  },
  {
   "cell_type": "code",
   "execution_count": 53,
   "metadata": {},
   "outputs": [
    {
     "data": {
      "application/vnd.jupyter.widget-view+json": {
       "model_id": "c33343820be14aaf9ea97183e5e3e5ed",
       "version_major": 2,
       "version_minor": 0
      },
      "text/plain": [
       "interactive(children=(Checkbox(value=False, description='MAPSS'), Checkbox(value=False, description='MAHS'), C…"
      ]
     },
     "metadata": {},
     "output_type": "display_data"
    }
   ],
   "source": [
    "# Define a function that generates checkboxes for a dictionary of keys\n",
    "def generate_checkboxes_from_dict(input_dict):\n",
    "    checkboxes = {key: widgets.Checkbox(description=key, value=False) for key in input_dict.keys()}\n",
    "    return checkboxes\n",
    "\n",
    "# Generate the checkboxes\n",
    "checkboxes_dict = generate_checkboxes_from_dict(remote_source_files)\n",
    "\n",
    "# Define a function that retrieves and prints the values of checked checkboxes\n",
    "def get_and_print_checked_values(**kwargs):\n",
    "    checked_values = {key: value for key, value in kwargs.items() if isinstance(value, widgets.Checkbox) and value.value}\n",
    "\n",
    "# Create an interactive widget using the interactive function\n",
    "interactive_widget = interactive(get_and_print_checked_values, **checkboxes_dict)\n",
    "\n",
    "# Display the interactive widget\n",
    "display(interactive_widget)"
   ]
  },
  {
   "cell_type": "code",
   "execution_count": 68,
   "metadata": {},
   "outputs": [
    {
     "name": "stdout",
     "output_type": "stream",
     "text": [
      "Selected projects: ['MAHSA', 'MAEASAM']\n",
      "Selected RMs: {'MAHSA': 'https://raw.githubusercontent.com/achp-project/prj-mahsa/main/resource-models/Heritage%20Location%20Resource%20Model.json', 'MAEASAM': 'https://raw.githubusercontent.com/achp-project/prj-maeasam/main/Site.json'}\n"
     ]
    }
   ],
   "source": [
    "# retrieve and show selected keys\n",
    "selected_keys = []\n",
    "for key, checkbox in checkboxes_dict.items():\n",
    "    if checkbox.value:\n",
    "        selected_keys.append(key)\n",
    "print(\"Selected projects:\", selected_keys)\n",
    "if len(selected_keys) < 2:\n",
    "    print(\"Please select two different JSON files.\")\n",
    "else:\n",
    "    subset_dict = {}\n",
    "    # Iterate through the selected keys and add corresponding key-value pairs to the subset dictionary\n",
    "    for key in selected_keys:\n",
    "        if key in remote_source_files:\n",
    "            subset_dict[key] = remote_source_files[key]\n",
    "    print(\"Selected RMs:\", subset_dict)\n"
   ]
  }
 ],
 "metadata": {
  "hide_input": false,
  "kernelspec": {
   "display_name": "Python 3",
   "language": "python",
   "name": "python3"
  },
  "language_info": {
   "codemirror_mode": {
    "name": "ipython",
    "version": 3
   },
   "file_extension": ".py",
   "mimetype": "text/x-python",
   "name": "python",
   "nbconvert_exporter": "python",
   "pygments_lexer": "ipython3",
   "version": "3.11.2"
  },
  "toc": {
   "base_numbering": 1,
   "nav_menu": {},
   "number_sections": true,
   "sideBar": true,
   "skip_h1_title": false,
   "title_cell": "Table of Contents",
   "title_sidebar": "Contents",
   "toc_cell": false,
   "toc_position": {},
   "toc_section_display": true,
   "toc_window_display": false
  },
  "varInspector": {
   "cols": {
    "lenName": 16,
    "lenType": 16,
    "lenVar": 40
   },
   "kernels_config": {
    "python": {
     "delete_cmd_postfix": "",
     "delete_cmd_prefix": "del ",
     "library": "var_list.py",
     "varRefreshCmd": "print(var_dic_list())"
    },
    "r": {
     "delete_cmd_postfix": ") ",
     "delete_cmd_prefix": "rm(",
     "library": "var_list.r",
     "varRefreshCmd": "cat(var_dic_list()) "
    }
   },
   "types_to_exclude": [
    "module",
    "function",
    "builtin_function_or_method",
    "instance",
    "_Feature"
   ],
   "window_display": false
  }
 },
 "nbformat": 4,
 "nbformat_minor": 2
}
