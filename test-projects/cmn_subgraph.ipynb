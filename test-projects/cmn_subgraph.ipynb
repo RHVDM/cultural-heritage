{
  "cells": [
    {
      "cell_type": "markdown",
      "id": "5e0d7254",
      "metadata": {},
      "source": [
        "## Background\n",
        "\n",
        "This Jupyter document shows how to merge two directed graphs, G1 and G2, and to identify their common subgraphs. This template can be used to compare Arches Resource Models (graph-based reference data) from different projects (see the abstract: https://github.com/achp-project/cultural-heritage/issues/6)"
      ]
    },
    {
      "cell_type": "markdown",
      "id": "e54ef923",
      "metadata": {},
      "source": [
        "Import libraries"
      ]
    },
    {
      "cell_type": "code",
      "execution_count": 104,
      "id": "75dd2448",
      "metadata": {},
      "outputs": [],
      "source": [
        "import networkx as nx\n",
        "import pandas as pd\n",
        "import numpy as np\n",
        "import matplotlib.pyplot as plt"
      ]
    },
    {
      "cell_type": "markdown",
      "id": "dba238c3",
      "metadata": {},
      "source": [
        "Create the Directed graphs (DiGraphs) G1 and G2"
      ]
    },
    {
      "cell_type": "code",
      "execution_count": 105,
      "id": "fd420dd1",
      "metadata": {},
      "outputs": [],
      "source": [
        "# G1\n",
        "G1 = nx.DiGraph()\n",
        "G1.add_nodes_from([1, 2, 3, 4])\n",
        "G1.add_edges_from([(1, 2), (2, 3), (3, 4)])\n",
        "G1_attrs_nodes = {1: {\"entity\": 'E27'}, 2: {\"entity\": 'E53'}, 3:{\"entity\": 'E2'}, 4:{\"entity\": 'E7'}}\n",
        "G1_attrs_edges = {(1, 2): {\"property\": 'P53'}, (2, 3): {\"property\": 'P4'}, (3, 4):{\"property\": 'P5'}}\n",
        "nx.set_node_attributes(G1, G1_attrs_nodes)\n",
        "nx.set_edge_attributes(G1, G1_attrs_edges)\n",
        "\n",
        "# G2\n",
        "G2 = nx.DiGraph()\n",
        "G2.add_nodes_from([1, 2, 3, 4])\n",
        "G2.add_edges_from([(1, 2), (2, 3), (4, 3)])\n",
        "G2_attrs_nodes = {1: {\"entity\": 'E27'}, 2: {\"entity\": 'E53'}, 3:{\"entity\": 'E2'}, 4:{\"entity\": 'E7'}}\n",
        "G2_attrs_edges = {(1, 2): {\"property\": 'P53'}, (2, 3): {\"property\": 'P1'}, (4, 3):{\"property\": 'P5'}}\n",
        "nx.set_node_attributes(G2, G2_attrs_nodes)\n",
        "nx.set_edge_attributes(G2, G2_attrs_edges)"
      ]
    },
    {
      "cell_type": "markdown",
      "id": "f132f5af",
      "metadata": {},
      "source": [
        "Print G1 and G2 lists of nodes and edges:"
      ]
    },
    {
      "cell_type": "code",
      "execution_count": 106,
      "id": "183afd51",
      "metadata": {},
      "outputs": [],
      "source": [
        "def print_edges_attributes(digraph):\n",
        "    edge_data = []\n",
        "    for u, v, attrs in G1.edges(data=True):\n",
        "        edge_info = {\n",
        "            \"Source\": u,\n",
        "            \"Target\": v,\n",
        "            **attrs\n",
        "        }\n",
        "        edge_data.append(edge_info)\n",
        "    edge_df = pd.DataFrame(edge_data)\n",
        "    print(edge_df.to_markdown())\n",
        "\n",
        "def print_nodes_attributes(digraph):\n",
        "    node_data = []\n",
        "    for node, attrs in G1.nodes(data=True):\n",
        "        node_info = {\n",
        "            \"Node\": node,\n",
        "            **attrs\n",
        "        }\n",
        "        node_data.append(node_info)\n",
        "    node_df = pd.DataFrame(node_data)\n",
        "    print(node_df.to_markdown())"
      ]
    },
    {
      "cell_type": "markdown",
      "id": "38a59850",
      "metadata": {},
      "source": [
        "G1:"
      ]
    },
    {
      "cell_type": "code",
      "execution_count": 107,
      "id": "7ff890e7",
      "metadata": {},
      "outputs": [
        {
          "name": "stdout",
          "output_type": "stream",
          "text": [
            "nodes\n",
            "|    |   Node | entity   |\n",
            "|---:|-------:|:---------|\n",
            "|  0 |      1 | E27      |\n",
            "|  1 |      2 | E53      |\n",
            "|  2 |      3 | E2       |\n",
            "|  3 |      4 | E7       |\n",
            "\n",
            "edges\n",
            "|    |   Source |   Target | property   |\n",
            "|---:|---------:|---------:|:-----------|\n",
            "|  0 |        1 |        2 | P53        |\n",
            "|  1 |        2 |        3 | P4         |\n",
            "|  2 |        3 |        4 | P5         |\n"
          ]
        }
      ],
      "source": [
        "print(\"nodes\")\n",
        "print_nodes_attributes(G1)\n",
        "print(\"\\nedges\")\n",
        "print_edges_attributes(G1)"
      ]
    },
    {
      "cell_type": "markdown",
      "id": "6cd39918",
      "metadata": {},
      "source": [
        "G2:"
      ]
    },
    {
      "cell_type": "code",
      "execution_count": 108,
      "id": "110c0904",
      "metadata": {},
      "outputs": [
        {
          "name": "stdout",
          "output_type": "stream",
          "text": [
            "nodes\n",
            "|    |   Node | entity   |\n",
            "|---:|-------:|:---------|\n",
            "|  0 |      1 | E27      |\n",
            "|  1 |      2 | E53      |\n",
            "|  2 |      3 | E2       |\n",
            "|  3 |      4 | E7       |\n",
            "\n",
            "edges\n",
            "|    |   Source |   Target | property   |\n",
            "|---:|---------:|---------:|:-----------|\n",
            "|  0 |        1 |        2 | P53        |\n",
            "|  1 |        2 |        3 | P4         |\n",
            "|  2 |        3 |        4 | P5         |\n"
          ]
        }
      ],
      "source": [
        "print(\"nodes\")\n",
        "print_nodes_attributes(G2)\n",
        "print(\"\\nedges\")\n",
        "print_edges_attributes(G2)"
      ]
    },
    {
      "cell_type": "markdown",
      "id": "ae75ca70",
      "metadata": {},
      "source": [
        "Plot G1 and G2:"
      ]
    },
    {
      "cell_type": "code",
      "execution_count": 109,
      "id": "fe55883a-6887-43dd-9498-5333a51799e2",
      "metadata": {
        "trusted": true
      },
      "outputs": [
        {
          "data": {
            "image/png": "[encoded data removed]",
            "text/plain": [
              "<Figure size 640x480 with 1 Axes>"
            ]
          },
          "metadata": {},
          "output_type": "display_data"
        },
        {
          "data": {
            "image/png": "[encoded data removed]",
            "text/plain": [
              "<Figure size 640x480 with 1 Axes>"
            ]
          },
          "metadata": {},
          "output_type": "display_data"
        }
      ],
      "source": [
        "# Plot G1\n",
        "\n",
        "p = nx.spring_layout(G1)\n",
        "\n",
        "G1_labels_nodes = nx.get_node_attributes(G1, 'entity')\n",
        "G1_labels_edges = nx.get_edge_attributes(G1, 'property')\n",
        "nx.draw(G1, pos=p, labels = G1_labels_nodes, with_labels = True)\n",
        "nx.draw_networkx_edge_labels(G1, pos=p, edge_labels = G1_labels_edges)\n",
        "plt.title(\"G1\")\n",
        "plt.show()\n",
        "\n",
        "# Plot G2\n",
        "\n",
        "G2_labels_nodes = nx.get_node_attributes(G2, 'entity')\n",
        "G2_labels_edges = nx.get_edge_attributes(G2, 'property')\n",
        "nx.draw(G2, pos=p, labels = G2_labels_nodes, with_labels = True)\n",
        "nx.draw_networkx_edge_labels(G2, pos=p, edge_labels = G2_labels_edges)\n",
        "plt.title(\"G2\")\n",
        "plt.show()"
      ]
    },
    {
      "cell_type": "markdown",
      "id": "20d367ad",
      "metadata": {},
      "source": [
        "## Table views"
      ]
    },
    {
      "cell_type": "markdown",
      "id": "8271e8e0",
      "metadata": {},
      "source": [
        "Rearrange attributes and nodes identifiers in a RDF-like structure"
      ]
    },
    {
      "cell_type": "code",
      "execution_count": 110,
      "id": "f11c6dcc",
      "metadata": {},
      "outputs": [],
      "source": [
        "# store\n",
        "lg = []\n",
        "dn = list()\n",
        "ct = 0\n",
        "for i in [G1, G2]:\n",
        "\tct = ct + 1\n",
        "\tdf_edges = nx.to_pandas_edgelist(i)\n",
        "\tdf_nodes = []\n",
        "\tfor a,b in i.nodes(data = True):\n",
        "\t\tdf_nodes.append(\n",
        "\t\t\t{\n",
        "\t\t\t\t'node_id': a,\n",
        "\t\t\t\t'entity': b['entity']\n",
        "\t\t\t}\n",
        "\t\t)\n",
        "\tdf_nodes=pd.DataFrame(df_nodes)\n",
        "\t# map\n",
        "\tid_to_entity = dict(zip(df_nodes['node_id'], df_nodes['entity']))\n",
        "\tdf_subgraph = df_edges\n",
        "\tdf_subgraph['source'] = df_edges['source'].map(id_to_entity)\n",
        "\tdf_subgraph['target'] = df_edges['target'].map(id_to_entity)\n",
        "\tlg.append(df_subgraph)\n",
        "\t# keep the list of id nodes\n",
        "\tdf_nodes['G'] = str(ct)\n",
        "\tdn.append(df_nodes)\n",
        "\n",
        "df_G1 = lg[0]\n",
        "df_G2 = lg[1]\n",
        "dn_all = pd.concat([dn[0], dn[1]])\n",
        "# clean\n",
        "dn_all = dn_all.reset_index()\n",
        "dn_all = dn_all.drop('index', axis = 1)"
      ]
    },
    {
      "cell_type": "markdown",
      "id": "b9a7a03a",
      "metadata": {},
      "source": [
        "G1:"
      ]
    },
    {
      "cell_type": "code",
      "execution_count": 111,
      "id": "789825ef",
      "metadata": {},
      "outputs": [
        {
          "name": "stdout",
          "output_type": "stream",
          "text": [
            "|    | source   | target   | property   |\n",
            "|---:|:---------|:---------|:-----------|\n",
            "|  0 | E27      | E53      | P53        |\n",
            "|  1 | E53      | E2       | P4         |\n",
            "|  2 | E2       | E7       | P5         |\n"
          ]
        }
      ],
      "source": [
        "print(df_G1.to_markdown())"
      ]
    },
    {
      "cell_type": "markdown",
      "id": "9b43a6be",
      "metadata": {},
      "source": [
        "G2:"
      ]
    },
    {
      "cell_type": "code",
      "execution_count": 112,
      "id": "4ea40882",
      "metadata": {},
      "outputs": [
        {
          "name": "stdout",
          "output_type": "stream",
          "text": [
            "|    | source   | target   | property   |\n",
            "|---:|:---------|:---------|:-----------|\n",
            "|  0 | E27      | E53      | P53        |\n",
            "|  1 | E53      | E2       | P1         |\n",
            "|  2 | E7       | E2       | P5         |\n"
          ]
        }
      ],
      "source": [
        "print(df_G2.to_markdown())"
      ]
    },
    {
      "cell_type": "markdown",
      "id": "1d6a9d23",
      "metadata": {},
      "source": [
        "Common rows between G1 and G2"
      ]
    },
    {
      "cell_type": "code",
      "execution_count": 113,
      "id": "e9af2a1a",
      "metadata": {},
      "outputs": [
        {
          "name": "stdout",
          "output_type": "stream",
          "text": [
            "\n",
            "\n",
            "|    | source   | target   | property   | _merge   |\n",
            "|---:|:---------|:---------|:-----------|:---------|\n",
            "|  0 | E27      | E53      | P53        | both     |\n"
          ]
        }
      ],
      "source": [
        "df_G1xG2 = df_G1.merge(df_G2, how='outer', indicator=True)\n",
        "df_G1_only = df_G1xG2[df_G1xG2['_merge'] == 'left_only']\n",
        "df_G2_only = df_G1xG2[df_G1xG2['_merge'] == 'right_only']\n",
        "df_G_both = df_G1xG2[df_G1xG2['_merge'] == 'both']\n",
        "print(\"\\n\")\n",
        "print(df_G_both.to_markdown())"
      ]
    },
    {
      "cell_type": "code",
      "execution_count": 114,
      "id": "7620433d",
      "metadata": {},
      "outputs": [],
      "source": [
        "\n",
        "# nodes with create 'match' column\n",
        "dn_all_match = dn_all \n",
        "dn_all_match['match'] = dn_all_match[\"entity\"] + '_' + dn_all_match[\"G\"]\n",
        "# add new node_id for the merge\n",
        "dn_all_match['id'] = range(len(dn_all_match))\n",
        "dn_all_match['id'] = dn_all_match['id']+1\n",
        "# dn_all_match = dn_all_match.drop(['entity', 'G'], axis = 1)\n",
        "dn_all_match = dn_all_match.drop(['entity'], axis = 1)\n",
        "# print(\"\\n\")\n",
        "# print(dn_all_match.to_markdown())"
      ]
    },
    {
      "cell_type": "markdown",
      "id": "66be5f57",
      "metadata": {},
      "source": [
        "Merge G1 and G2:"
      ]
    },
    {
      "cell_type": "code",
      "execution_count": 115,
      "id": "1a870acf",
      "metadata": {},
      "outputs": [
        {
          "name": "stdout",
          "output_type": "stream",
          "text": [
            "|    | source   | target   | property   | G    |   weight | source_id   | target_id   |\n",
            "|---:|:---------|:---------|:-----------|:-----|---------:|:------------|:------------|\n",
            "|  1 | E53      | E2       | P4         | 1    |        1 | E53_1       | E2_1        |\n",
            "|  2 | E2       | E7       | P5         | 1    |        1 | E2_1        | E7_1        |\n",
            "|  3 | E53      | E2       | P1         | 2    |        1 | E53_2       | E2_2        |\n",
            "|  4 | E7       | E2       | P5         | 2    |        1 | E7_2        | E2_2        |\n",
            "|  0 | E27      | E53      | P53        | both |        2 | E27_both    | E53_both    |\n"
          ]
        }
      ],
      "source": [
        "# edges, assign name of source graph, ids\n",
        "\n",
        "df_G1_only = df_G1_only.assign(weight=1)\n",
        "df_G2_only = df_G2_only.assign(weight=1)\n",
        "df_G_both = df_G_both.assign(weight=2) # weight of two when shared\n",
        "df_all = pd.concat([df_G1_only, df_G2_only, df_G_both])\n",
        "\n",
        "df_all_match = df_all\n",
        "\n",
        "# replace left_only and right_only with graph ids, raname\n",
        "df_all_match['_merge'] = df_all_match['_merge'].replace(['left_only'], \"1\")\n",
        "df_all_match['_merge'] = df_all_match['_merge'].replace(['right_only'], \"2\")\n",
        "df_all_match = df_all_match.rename(columns={'_merge': 'G'})\n",
        "\n",
        "df_all_match['G'] = df_all_match[\"G\"].astype(\"str\")\n",
        "df_all_match['source_id'] = df_all_match[\"source\"] + '_' + df_all_match[\"G\"]\n",
        "df_all_match['target_id'] = df_all_match[\"target\"] + '_' + df_all_match[\"G\"]\n",
        "\n",
        "print(df_all_match.to_markdown())"
      ]
    },
    {
      "cell_type": "markdown",
      "id": "330f1090",
      "metadata": {},
      "source": [
        "Plot G1 and G2, identifying common and different subgraphs"
      ]
    },
    {
      "cell_type": "code",
      "execution_count": 118,
      "id": "07eed38f",
      "metadata": {},
      "outputs": [
        {
          "name": "stderr",
          "output_type": "stream",
          "text": [
            "No artists with labels found to put in legend.  Note that artists whose label start with an underscore are ignored when legend() is called with no argument.\n"
          ]
        },
        {
          "data": {
            "image/png": "[encoded data removed]",
            "text/plain": [
              "<Figure size 640x480 with 1 Axes>"
            ]
          },
          "metadata": {},
          "output_type": "display_data"
        }
      ],
      "source": [
        "rows_to_duplicate = df_all_match[df_all_match['source_id'].str.contains('_both') | df_all_match['target_id'].str.contains('_both')]\n",
        "\n",
        "# find indices of 'both' rows \n",
        "idx_both = df_all_match.index[df_all_match['source_id'].str.contains('_both') | df_all_match['target_id'].str.contains('_both')].tolist()\n",
        "df_all_both = df_all_match\n",
        "df_all_both['both'] = '0'\n",
        "# search and replace\n",
        "for both in idx_both:\n",
        "\tdf_both_1 = df_all_both.loc[[both]]\n",
        "\tdf_both_1['both'] = str(both) + \"_1\"\n",
        "\tdf_both_1['source_id'] = df_both_1.iloc[0]['source_id'].replace('both', '1')\n",
        "\tdf_both_1['target_id'] = df_both_1.iloc[0]['target_id'].replace('both', '1')\n",
        "\tdf_both_2 = df_all_both.loc[[both]]\n",
        "\tdf_both_2['source_id'] = df_both_2.iloc[0]['source_id'].replace('both', '2')\n",
        "\tdf_both_2['target_id'] = df_both_2.iloc[0]['target_id'].replace('both', '2')\n",
        "\tdf_both_2['both'] = str(both) + \"_1\"\n",
        "\tdf_all_both = pd.concat([df_all_both, df_both_1], ignore_index=True)\n",
        "\tdf_all_both = pd.concat([df_all_both, df_both_2], ignore_index=True)\n",
        "\n",
        "# remove rows with 'both' patterns\n",
        "idx_both = df_all_both.index[df_all_both['source_id'].str.contains('_both') | df_all_both['target_id'].str.contains('_both')].tolist()\n",
        "df_all_both = df_all_both.drop(idx_both)\n",
        "\n",
        "# print(df_all_both)\n",
        "\n",
        "# %%\n",
        "# common graph\n",
        "\n",
        "df_both_source = df_all_both.merge(dn_all_match, right_on=['match'], left_on=['source_id'])\n",
        "df_both_source = df_both_source.rename(columns={'id': 'id_source'})\n",
        "df_both = df_both_source.merge(dn_all_match, right_on=['match'], left_on=['target_id'])\n",
        "df_both = df_both.rename(columns={'id': 'id_target'})\n",
        "# remove unuseful columns\n",
        "df_both = df_both.drop(['G_y', 'G', 'match_x', 'match_y'], axis = 1)\n",
        "df_both = df_both.rename(columns={'G_x': 'G'})\n",
        "\n",
        "# print(df_both)\n",
        "\n",
        "# %%\n",
        "# replace node ids when they are 'both', stratified replacement based on 'both' tag\n",
        "\n",
        "boths = df_both['both'].unique().tolist()\n",
        "boths.remove('0')\n",
        "\n",
        "for i in boths:\n",
        "\t# get the first one only, the second will be replaced\n",
        "\tboth_row_to_keep  = df_both.index[df_both['both']==i].tolist()[0]\n",
        "\tid_source_to_keep = df_both.iloc[both_row_to_keep]['id_source']\n",
        "\tid_target_to_keep = df_both.iloc[both_row_to_keep]['id_target']\n",
        "\t# collect the ids of the second one\n",
        "\tboth_row_to_change  = df_both.index[df_both['both']==i].tolist()[1]\n",
        "\tid_source_to_change = df_both.iloc[both_row_to_change]['id_source']\n",
        "\tid_target_to_change = df_both.iloc[both_row_to_change]['id_target']\n",
        "\t# replace ids 'to_change' by ids 'to_keep'\n",
        "\t# replace with the source\n",
        "\tdf_both['id_source'] = df_both['id_source'].replace([id_source_to_change], id_source_to_keep)\n",
        "\tdf_both['id_target'] = df_both['id_target'].replace([id_source_to_change], id_source_to_keep)\n",
        "\t# replace with the target\n",
        "\tdf_both['id_source'] = df_both['id_source'].replace([id_target_to_change], id_target_to_keep)\n",
        "\tdf_both['id_target'] = df_both['id_target'].replace([id_target_to_change], id_target_to_keep)\n",
        "\n",
        "# print(df_both)\n",
        "\n",
        "# %%\n",
        "# plot the final graph\n",
        "\n",
        "# colors\n",
        "conditions = [\n",
        "    (df_both['G'] == '1'),\n",
        "    (df_both['G'] == '2')]\n",
        "choices = ['red', 'green']\n",
        "df_both['color'] = np.select(conditions, choices, default='black')\n",
        "\n",
        "# load with attributes\n",
        "G = nx.from_pandas_edgelist(df_both, 'id_source', 'id_target', True, create_using=nx.DiGraph())\n",
        "for i in G.nodes():\n",
        "     G.nodes[i]['entity'] = dn_all[dn_all['id']==i]['entity'].item()\n",
        "\n",
        "edges = G.edges()\n",
        "colors = [G[u][v]['color'] for u,v in edges]\n",
        "weights = [G[u][v]['weight'] for u,v in edges]\n",
        "\n",
        "p = nx.spring_layout(G)\n",
        "G_labels_nodes = nx.get_node_attributes(G, 'entity')\n",
        "G_labels_edges = nx.get_edge_attributes(G, 'property')\n",
        "f = plt.figure(1)\n",
        "nx.draw(G, pos=p, labels = G_labels_nodes, with_labels = True, edge_color=colors, width=weights)\n",
        "nx.draw_networkx_edge_labels(G, pos=p, edge_labels = G_labels_edges)\n",
        "plt.axis('off')\n",
        "f.set_facecolor('w')\n",
        "\n",
        "plt.legend()\n",
        "\n",
        "f.tight_layout()\n",
        "plt.show()"
      ]
    }
  ],
  "metadata": {
    "kernelspec": {
      "display_name": "Python 3",
      "language": "python",
      "name": "python3"
    },
    "language_info": {
      "codemirror_mode": {
        "name": "ipython",
        "version": 3
      },
      "file_extension": ".py",
      "mimetype": "text/x-python",
      "name": "python",
      "nbconvert_exporter": "python",
      "pygments_lexer": "ipython3",
      "version": "3.11.2"
    }
  },
  "nbformat": 4,
  "nbformat_minor": 5
}
