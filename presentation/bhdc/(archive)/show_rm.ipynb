{
  "cells": [
    {
      "cell_type": "markdown",
      "metadata": {
        "id": "YldnuK8gP5s-"
      },
      "source": [
        "# Plot a RM"
      ]
    },
    {
      "cell_type": "markdown",
      "metadata": {
        "id": "VMcAryJSQFFq"
      },
      "source": [
        "Load GitHub repository and requirements"
      ]
    },
    {
      "cell_type": "code",
      "execution_count": 20,
      "metadata": {
        "id": "6WLirD7lOL_S",
        "colab": {
          "base_uri": "https://localhost:8080/"
        },
        "outputId": "48376ba6-c1d1-4312-e56d-0e24687e1687"
      },
      "outputs": [
        {
          "output_type": "stream",
          "name": "stdout",
          "text": [
            "rm: cannot remove 'cultural-heritage': No such file or directory\n",
            "rm: cannot remove 'eamena-functions': No such file or directory\n",
            "Cloning into 'cultural-heritage'...\n",
            "remote: Enumerating objects: 2842, done.\u001b[K\n",
            "remote: Counting objects: 100% (110/110), done.\u001b[K\n",
            "remote: Compressing objects: 100% (77/77), done.\u001b[K\n",
            "remote: Total 2842 (delta 60), reused 52 (delta 27), pack-reused 2732\u001b[K\n",
            "Receiving objects: 100% (2842/2842), 26.57 MiB | 32.74 MiB/s, done.\n",
            "Resolving deltas: 100% (2094/2094), done.\n",
            "Requirement already satisfied: beautifulsoup4==4.12.2 in /usr/local/lib/python3.10/dist-packages (from -r cultural-heritage/graph-parser/requirements.txt (line 1)) (4.12.2)\n",
            "Requirement already satisfied: bs4==0.0.1 in /usr/local/lib/python3.10/dist-packages (from -r cultural-heritage/graph-parser/requirements.txt (line 2)) (0.0.1)\n",
            "Requirement already satisfied: certifi==2023.5.7 in /usr/local/lib/python3.10/dist-packages (from -r cultural-heritage/graph-parser/requirements.txt (line 3)) (2023.5.7)\n",
            "Requirement already satisfied: charset-normalizer==3.1.0 in /usr/local/lib/python3.10/dist-packages (from -r cultural-heritage/graph-parser/requirements.txt (line 4)) (3.1.0)\n",
            "Requirement already satisfied: contourpy==1.0.7 in /usr/local/lib/python3.10/dist-packages (from -r cultural-heritage/graph-parser/requirements.txt (line 5)) (1.0.7)\n",
            "Requirement already satisfied: cycler==0.11.0 in /usr/local/lib/python3.10/dist-packages (from -r cultural-heritage/graph-parser/requirements.txt (line 6)) (0.11.0)\n",
            "Requirement already satisfied: folium==0.14.0 in /usr/local/lib/python3.10/dist-packages (from -r cultural-heritage/graph-parser/requirements.txt (line 7)) (0.14.0)\n",
            "Requirement already satisfied: fonttools==4.39.4 in /usr/local/lib/python3.10/dist-packages (from -r cultural-heritage/graph-parser/requirements.txt (line 8)) (4.39.4)\n",
            "Requirement already satisfied: idna==3.4 in /usr/local/lib/python3.10/dist-packages (from -r cultural-heritage/graph-parser/requirements.txt (line 9)) (3.4)\n",
            "Requirement already satisfied: importlib-resources==5.12.0 in /usr/local/lib/python3.10/dist-packages (from -r cultural-heritage/graph-parser/requirements.txt (line 10)) (5.12.0)\n",
            "Requirement already satisfied: kiwisolver==1.4.4 in /usr/local/lib/python3.10/dist-packages (from -r cultural-heritage/graph-parser/requirements.txt (line 11)) (1.4.4)\n",
            "Requirement already satisfied: matplotlib==3.7.1 in /usr/local/lib/python3.10/dist-packages (from -r cultural-heritage/graph-parser/requirements.txt (line 12)) (3.7.1)\n",
            "Requirement already satisfied: networkx==3.1 in /usr/local/lib/python3.10/dist-packages (from -r cultural-heritage/graph-parser/requirements.txt (line 13)) (3.1)\n",
            "Requirement already satisfied: numpy==1.23.0 in /usr/local/lib/python3.10/dist-packages (from -r cultural-heritage/graph-parser/requirements.txt (line 14)) (1.23.0)\n",
            "Requirement already satisfied: packaging==23.1 in /usr/local/lib/python3.10/dist-packages (from -r cultural-heritage/graph-parser/requirements.txt (line 15)) (23.1)\n",
            "Requirement already satisfied: pandas==1.5.3 in /usr/local/lib/python3.10/dist-packages (from -r cultural-heritage/graph-parser/requirements.txt (line 16)) (1.5.3)\n",
            "Requirement already satisfied: Pillow==9.5.0 in /usr/local/lib/python3.10/dist-packages (from -r cultural-heritage/graph-parser/requirements.txt (line 17)) (9.5.0)\n",
            "Requirement already satisfied: pyparsing==3.0.9 in /usr/local/lib/python3.10/dist-packages (from -r cultural-heritage/graph-parser/requirements.txt (line 18)) (3.0.9)\n",
            "Requirement already satisfied: python-dateutil==2.8.2 in /usr/local/lib/python3.10/dist-packages (from -r cultural-heritage/graph-parser/requirements.txt (line 19)) (2.8.2)\n",
            "Requirement already satisfied: pytz==2023.3 in /usr/local/lib/python3.10/dist-packages (from -r cultural-heritage/graph-parser/requirements.txt (line 20)) (2023.3)\n",
            "Requirement already satisfied: pyvis==0.3.2 in /usr/local/lib/python3.10/dist-packages (from -r cultural-heritage/graph-parser/requirements.txt (line 21)) (0.3.2)\n",
            "Requirement already satisfied: requests==2.31.0 in /usr/local/lib/python3.10/dist-packages (from -r cultural-heritage/graph-parser/requirements.txt (line 22)) (2.31.0)\n",
            "Requirement already satisfied: six==1.16.0 in /usr/local/lib/python3.10/dist-packages (from -r cultural-heritage/graph-parser/requirements.txt (line 23)) (1.16.0)\n",
            "Requirement already satisfied: soupsieve==2.4.1 in /usr/local/lib/python3.10/dist-packages (from -r cultural-heritage/graph-parser/requirements.txt (line 24)) (2.4.1)\n",
            "Requirement already satisfied: tabulate==0.9.0 in /usr/local/lib/python3.10/dist-packages (from -r cultural-heritage/graph-parser/requirements.txt (line 25)) (0.9.0)\n",
            "Requirement already satisfied: tzdata==2023.3 in /usr/local/lib/python3.10/dist-packages (from -r cultural-heritage/graph-parser/requirements.txt (line 26)) (2023.3)\n",
            "Requirement already satisfied: urllib3==2.0.3 in /usr/local/lib/python3.10/dist-packages (from -r cultural-heritage/graph-parser/requirements.txt (line 27)) (2.0.3)\n",
            "Requirement already satisfied: zipp==3.15.0 in /usr/local/lib/python3.10/dist-packages (from -r cultural-heritage/graph-parser/requirements.txt (line 28)) (3.15.0)\n",
            "Requirement already satisfied: branca>=0.6.0 in /usr/local/lib/python3.10/dist-packages (from folium==0.14.0->-r cultural-heritage/graph-parser/requirements.txt (line 7)) (0.7.0)\n",
            "Requirement already satisfied: jinja2>=2.9 in /usr/local/lib/python3.10/dist-packages (from folium==0.14.0->-r cultural-heritage/graph-parser/requirements.txt (line 7)) (3.1.2)\n",
            "Requirement already satisfied: ipython>=5.3.0 in /usr/local/lib/python3.10/dist-packages (from pyvis==0.3.2->-r cultural-heritage/graph-parser/requirements.txt (line 21)) (7.34.0)\n",
            "Requirement already satisfied: jsonpickle>=1.4.1 in /usr/local/lib/python3.10/dist-packages (from pyvis==0.3.2->-r cultural-heritage/graph-parser/requirements.txt (line 21)) (3.0.2)\n",
            "Requirement already satisfied: setuptools>=18.5 in /usr/local/lib/python3.10/dist-packages (from ipython>=5.3.0->pyvis==0.3.2->-r cultural-heritage/graph-parser/requirements.txt (line 21)) (67.7.2)\n",
            "Requirement already satisfied: jedi>=0.16 in /usr/local/lib/python3.10/dist-packages (from ipython>=5.3.0->pyvis==0.3.2->-r cultural-heritage/graph-parser/requirements.txt (line 21)) (0.19.1)\n",
            "Requirement already satisfied: decorator in /usr/local/lib/python3.10/dist-packages (from ipython>=5.3.0->pyvis==0.3.2->-r cultural-heritage/graph-parser/requirements.txt (line 21)) (4.4.2)\n",
            "Requirement already satisfied: pickleshare in /usr/local/lib/python3.10/dist-packages (from ipython>=5.3.0->pyvis==0.3.2->-r cultural-heritage/graph-parser/requirements.txt (line 21)) (0.7.5)\n",
            "Requirement already satisfied: traitlets>=4.2 in /usr/local/lib/python3.10/dist-packages (from ipython>=5.3.0->pyvis==0.3.2->-r cultural-heritage/graph-parser/requirements.txt (line 21)) (5.7.1)\n",
            "Requirement already satisfied: prompt-toolkit!=3.0.0,!=3.0.1,<3.1.0,>=2.0.0 in /usr/local/lib/python3.10/dist-packages (from ipython>=5.3.0->pyvis==0.3.2->-r cultural-heritage/graph-parser/requirements.txt (line 21)) (3.0.39)\n",
            "Requirement already satisfied: pygments in /usr/local/lib/python3.10/dist-packages (from ipython>=5.3.0->pyvis==0.3.2->-r cultural-heritage/graph-parser/requirements.txt (line 21)) (2.16.1)\n",
            "Requirement already satisfied: backcall in /usr/local/lib/python3.10/dist-packages (from ipython>=5.3.0->pyvis==0.3.2->-r cultural-heritage/graph-parser/requirements.txt (line 21)) (0.2.0)\n",
            "Requirement already satisfied: matplotlib-inline in /usr/local/lib/python3.10/dist-packages (from ipython>=5.3.0->pyvis==0.3.2->-r cultural-heritage/graph-parser/requirements.txt (line 21)) (0.1.6)\n",
            "Requirement already satisfied: pexpect>4.3 in /usr/local/lib/python3.10/dist-packages (from ipython>=5.3.0->pyvis==0.3.2->-r cultural-heritage/graph-parser/requirements.txt (line 21)) (4.8.0)\n",
            "Requirement already satisfied: MarkupSafe>=2.0 in /usr/local/lib/python3.10/dist-packages (from jinja2>=2.9->folium==0.14.0->-r cultural-heritage/graph-parser/requirements.txt (line 7)) (2.1.3)\n",
            "Requirement already satisfied: parso<0.9.0,>=0.8.3 in /usr/local/lib/python3.10/dist-packages (from jedi>=0.16->ipython>=5.3.0->pyvis==0.3.2->-r cultural-heritage/graph-parser/requirements.txt (line 21)) (0.8.3)\n",
            "Requirement already satisfied: ptyprocess>=0.5 in /usr/local/lib/python3.10/dist-packages (from pexpect>4.3->ipython>=5.3.0->pyvis==0.3.2->-r cultural-heritage/graph-parser/requirements.txt (line 21)) (0.7.0)\n",
            "Requirement already satisfied: wcwidth in /usr/local/lib/python3.10/dist-packages (from prompt-toolkit!=3.0.0,!=3.0.1,<3.1.0,>=2.0.0->ipython>=5.3.0->pyvis==0.3.2->-r cultural-heritage/graph-parser/requirements.txt (line 21)) (0.2.9)\n",
            "/content/cultural-heritage/graph-parser\n",
            "Cloning into 'eamena-functions'...\n",
            "remote: Enumerating objects: 192, done.\u001b[K\n",
            "remote: Counting objects: 100% (192/192), done.\u001b[K\n",
            "remote: Compressing objects: 100% (140/140), done.\u001b[K\n",
            "remote: Total 192 (delta 112), reused 125 (delta 50), pack-reused 0\u001b[K\n",
            "Receiving objects: 100% (192/192), 47.32 KiB | 11.83 MiB/s, done.\n",
            "Resolving deltas: 100% (112/112), done.\n",
            "/content/eamena-functions\n"
          ]
        }
      ],
      "source": [
        "# Download and install latest version of Arches graph parser\n",
        "!rm cultural-heritage -R\n",
        "!rm eamena-functions -R\n",
        "!git clone https://github.com/achp-project/cultural-heritage.git\n",
        "!pip install -r cultural-heritage/graph-parser/requirements.txt\n",
        "%cd /content/cultural-heritage/graph-parser/\n",
        "import graph_mixer as gm\n",
        "!git clone https://github.com/eamena-project/eamena-functions.git\n",
        "%cd /content/eamena-functions\n",
        "from erms import erms"
      ]
    },
    {
      "cell_type": "markdown",
      "metadata": {
        "id": "2olOO_kgp6ts"
      },
      "source": [
        "Load libraries"
      ]
    },
    {
      "cell_type": "code",
      "execution_count": 8,
      "metadata": {
        "id": "AyXkQz-pWnTG"
      },
      "outputs": [],
      "source": [
        "import os\n",
        "import urllib.request\n",
        "import pandas as pd\n",
        "import ipywidgets as widgets\n",
        "from ipywidgets import interact, interactive\n",
        "import networkx as nx\n",
        "import matplotlib.pyplot as plt\n",
        "import numpy as np\n",
        "import re\n",
        "from IPython.display import HTML\n",
        "from pyvis import network as net\n",
        "import folium\n",
        "import json"
      ]
    },
    {
      "cell_type": "markdown",
      "metadata": {
        "id": "7JVw9PyfQNYm"
      },
      "source": [
        "List of available RMs"
      ]
    },
    {
      "cell_type": "code",
      "execution_count": 24,
      "metadata": {
        "id": "A8duYcGSQ7Ai",
        "colab": {
          "base_uri": "https://localhost:8080/"
        },
        "outputId": "dd2b6b81-f6ee-41fe-eb23-0961932922ac"
      },
      "outputs": [
        {
          "output_type": "stream",
          "name": "stdout",
          "text": [
            "/content/cultural-heritage/graph-parser\n"
          ]
        },
        {
          "output_type": "execute_result",
          "data": {
            "text/plain": [
              "{'MAPSS': 'https://raw.githubusercontent.com/achp-project/prj-mapss/main/pkg/graphs/Heritage%20Place%20(3).json',\n",
              " 'MAHS': 'https://raw.githubusercontent.com/achp-project/prj-mahs/main/Site.json',\n",
              " 'MAHSA': 'https://raw.githubusercontent.com/achp-project/prj-mahsa/main/resource-models/Heritage%20Location%20Resource%20Model.json',\n",
              " 'MAEASAM': 'https://raw.githubusercontent.com/achp-project/prj-maeasam/main/Site.json',\n",
              " 'EAMENA': 'https://raw.githubusercontent.com/achp-project/prj-eamena-marea/main/resource_models/Heritage%20Place.json'}"
            ]
          },
          "metadata": {},
          "execution_count": 24
        }
      ],
      "source": [
        "# TODO: modify for only one RM\n",
        "# Download uploaded cultural heritage partners graphs\n",
        "%cd /content/cultural-heritage/graph-parser/\n",
        "!rm inputResourceModels -R\n",
        "!mkdir -p inputResourceModels\n",
        "remote_source_files = gm.rm_list()\n",
        "remote_source_files"
      ]
    },
    {
      "cell_type": "markdown",
      "metadata": {
        "id": "U-TroF5KWnTK"
      },
      "source": [
        "Select two RMs to compare (checkboxes)"
      ]
    },
    {
      "cell_type": "code",
      "execution_count": 25,
      "metadata": {
        "colab": {
          "base_uri": "https://localhost:8080/",
          "height": 177,
          "referenced_widgets": [
            "ab7548da0bda419aae078439dac6f714",
            "5435f605319441e786c71ddbb1f156f0",
            "e5fc0b083227416cafd5088eadc57169",
            "cc04613152f34defa22cf9d212c327e5",
            "97429bf24a9049a79500cc90a7461d62",
            "85ae79a10f654cd1b7e81d4d9073fb57",
            "50d8b32156d4441a93750eaa9cdf59f7",
            "0d98fee51304460c8a8c729ae555d0ac",
            "97fa5e584ff44d2c8943de40fb7c0c80",
            "4e556be6dac74c0bb04dac6c305306a5",
            "7c8ff6a7d2d5417a8c5a5137a2f1f0b7",
            "4e587780f947484b9d31bfbea1cd72ac",
            "5c020c87336748e1839cda523ce2f5f1",
            "70c6f5f77c6f4f4db38038992e14772c",
            "9cd8b085813f4aed9d131ca3e90b38a7",
            "0461f138f17a403c9dc2cdd58785d467",
            "d6e566e715d348a0a83dbe058ca794df",
            "04cc9f3a3b1e4937b0c0ffafe6f5f602",
            "d1239fd655a94261a7e7164da1844967"
          ]
        },
        "id": "5IXDMVXzWnTL",
        "outputId": "3dcc217c-a4f4-43cb-8e73-a96f7aea712a"
      },
      "outputs": [
        {
          "output_type": "display_data",
          "data": {
            "text/plain": [
              "interactive(children=(Checkbox(value=False, description='MAPSS'), Checkbox(value=False, description='MAHS'), C…"
            ],
            "application/vnd.jupyter.widget-view+json": {
              "version_major": 2,
              "version_minor": 0,
              "model_id": "ab7548da0bda419aae078439dac6f714"
            }
          },
          "metadata": {}
        }
      ],
      "source": [
        "# TODO: modify for only one RM\n",
        "checkboxes_dict = gm.generate_checkboxes_from_dict(remote_source_files)\n",
        "interactive_widget = interactive(gm.get_and_print_checked_values, **checkboxes_dict)\n",
        "display(interactive_widget)"
      ]
    },
    {
      "cell_type": "markdown",
      "metadata": {
        "id": "jJxIebxYQqKv"
      },
      "source": [
        "Retrieve and show selected RM keys"
      ]
    },
    {
      "cell_type": "code",
      "execution_count": 26,
      "metadata": {
        "colab": {
          "base_uri": "https://localhost:8080/"
        },
        "id": "hHfJGCaEWnTM",
        "outputId": "b79fa995-e565-4ff8-be0c-6051f5093e8a"
      },
      "outputs": [
        {
          "output_type": "stream",
          "name": "stdout",
          "text": [
            "Selected projects: ['MAHSA', 'EAMENA']\n",
            "Selected RMs: {'MAHSA': 'https://raw.githubusercontent.com/achp-project/prj-mahsa/main/resource-models/Heritage%20Location%20Resource%20Model.json', 'EAMENA': 'https://raw.githubusercontent.com/achp-project/prj-eamena-marea/main/resource_models/Heritage%20Place.json'}\n"
          ]
        }
      ],
      "source": [
        "gm.rm_selected(checkboxes_dict, remote_source_files)"
      ]
    },
    {
      "cell_type": "markdown",
      "metadata": {
        "id": "zYGpMDJcRB_Q"
      },
      "source": [
        "Create subgraph and comparison dataframe csv files by running [graph-parser.py](https://github.com/achp-project/cultural-heritage/blob/main/graph-parser/graph_parser.py) and [graph-comparator.py](https://github.com/achp-project/cultural-heritage/blob/main/graph-parser/graph_comparator.py)"
      ]
    },
    {
      "cell_type": "code",
      "execution_count": 27,
      "metadata": {
        "id": "Rl__ca2NkpzV"
      },
      "outputs": [],
      "source": [
        "!python /content/cultural-heritage/graph-parser/graph_comparator.py -d -m list -o subgraphMetrics.csv inputResourceModels/*.json\n",
        "subgraph_metrics = pd.read_csv('subgraphMetrics.csv')\n",
        "subgraph_metrics"
      ]
    },
    {
      "cell_type": "markdown",
      "metadata": {
        "id": "ancDns71RIe9"
      },
      "source": [
        "Show RM"
      ]
    },
    {
      "cell_type": "code",
      "source": [
        "rm_project= 'EAMENA'\n",
        "erms_template_df = erms.erms_template()\n",
        "erms_template_df['Enhanced record minimum standard'] = erms_template_df['Enhanced record minimum standard'].str.contains(r'Yes', case = False, na = False, regex = True).astype(int)\n",
        "erms_template_df = erms_template_df.loc[erms_template_df['Enhanced record minimum standard'] == 1]\n",
        "in_erms = list(erms_template_df['uuid_sql'])\n",
        "G = gm.create_rm_graph(rm_project= rm_project, highlight_nodes=in_erms)\n",
        "gm.plot_net_graph(G)"
      ],
      "metadata": {
        "id": "aNMp_es-x7qM"
      },
      "execution_count": null,
      "outputs": []
    }
  ],
  "metadata": {
    "colab": {
      "provenance": [],
      "toc_visible": true
    },
    "kernelspec": {
      "display_name": "Python 3",
      "name": "python3"
    },
    "language_info": {
      "codemirror_mode": {
        "name": "ipython",
        "version": 3
      },
      "file_extension": ".py",
      "mimetype": "text/x-python",
      "name": "python",
      "nbconvert_exporter": "python",
      "pygments_lexer": "ipython3",
      "version": "3.11.2"
    },
    "widgets": {
      "application/vnd.jupyter.widget-state+json": {
        "ab7548da0bda419aae078439dac6f714": {
          "model_module": "@jupyter-widgets/controls",
          "model_name": "VBoxModel",
          "model_module_version": "1.5.0",
          "state": {
            "_dom_classes": [
              "widget-interact"
            ],
            "_model_module": "@jupyter-widgets/controls",
            "_model_module_version": "1.5.0",
            "_model_name": "VBoxModel",
            "_view_count": null,
            "_view_module": "@jupyter-widgets/controls",
            "_view_module_version": "1.5.0",
            "_view_name": "VBoxView",
            "box_style": "",
            "children": [
              "IPY_MODEL_5435f605319441e786c71ddbb1f156f0",
              "IPY_MODEL_e5fc0b083227416cafd5088eadc57169",
              "IPY_MODEL_cc04613152f34defa22cf9d212c327e5",
              "IPY_MODEL_97429bf24a9049a79500cc90a7461d62",
              "IPY_MODEL_85ae79a10f654cd1b7e81d4d9073fb57",
              "IPY_MODEL_50d8b32156d4441a93750eaa9cdf59f7"
            ],
            "layout": "IPY_MODEL_0d98fee51304460c8a8c729ae555d0ac"
          }
        },
        "5435f605319441e786c71ddbb1f156f0": {
          "model_module": "@jupyter-widgets/controls",
          "model_name": "CheckboxModel",
          "model_module_version": "1.5.0",
          "state": {
            "_dom_classes": [],
            "_model_module": "@jupyter-widgets/controls",
            "_model_module_version": "1.5.0",
            "_model_name": "CheckboxModel",
            "_view_count": null,
            "_view_module": "@jupyter-widgets/controls",
            "_view_module_version": "1.5.0",
            "_view_name": "CheckboxView",
            "description": "MAPSS",
            "description_tooltip": null,
            "disabled": false,
            "indent": true,
            "layout": "IPY_MODEL_97fa5e584ff44d2c8943de40fb7c0c80",
            "style": "IPY_MODEL_4e556be6dac74c0bb04dac6c305306a5",
            "value": false
          }
        },
        "e5fc0b083227416cafd5088eadc57169": {
          "model_module": "@jupyter-widgets/controls",
          "model_name": "CheckboxModel",
          "model_module_version": "1.5.0",
          "state": {
            "_dom_classes": [],
            "_model_module": "@jupyter-widgets/controls",
            "_model_module_version": "1.5.0",
            "_model_name": "CheckboxModel",
            "_view_count": null,
            "_view_module": "@jupyter-widgets/controls",
            "_view_module_version": "1.5.0",
            "_view_name": "CheckboxView",
            "description": "MAHS",
            "description_tooltip": null,
            "disabled": false,
            "indent": true,
            "layout": "IPY_MODEL_7c8ff6a7d2d5417a8c5a5137a2f1f0b7",
            "style": "IPY_MODEL_4e587780f947484b9d31bfbea1cd72ac",
            "value": false
          }
        },
        "cc04613152f34defa22cf9d212c327e5": {
          "model_module": "@jupyter-widgets/controls",
          "model_name": "CheckboxModel",
          "model_module_version": "1.5.0",
          "state": {
            "_dom_classes": [],
            "_model_module": "@jupyter-widgets/controls",
            "_model_module_version": "1.5.0",
            "_model_name": "CheckboxModel",
            "_view_count": null,
            "_view_module": "@jupyter-widgets/controls",
            "_view_module_version": "1.5.0",
            "_view_name": "CheckboxView",
            "description": "MAHSA",
            "description_tooltip": null,
            "disabled": false,
            "indent": true,
            "layout": "IPY_MODEL_5c020c87336748e1839cda523ce2f5f1",
            "style": "IPY_MODEL_70c6f5f77c6f4f4db38038992e14772c",
            "value": true
          }
        },
        "97429bf24a9049a79500cc90a7461d62": {
          "model_module": "@jupyter-widgets/controls",
          "model_name": "CheckboxModel",
          "model_module_version": "1.5.0",
          "state": {
            "_dom_classes": [],
            "_model_module": "@jupyter-widgets/controls",
            "_model_module_version": "1.5.0",
            "_model_name": "CheckboxModel",
            "_view_count": null,
            "_view_module": "@jupyter-widgets/controls",
            "_view_module_version": "1.5.0",
            "_view_name": "CheckboxView",
            "description": "MAEASAM",
            "description_tooltip": null,
            "disabled": false,
            "indent": true,
            "layout": "IPY_MODEL_9cd8b085813f4aed9d131ca3e90b38a7",
            "style": "IPY_MODEL_0461f138f17a403c9dc2cdd58785d467",
            "value": false
          }
        },
        "85ae79a10f654cd1b7e81d4d9073fb57": {
          "model_module": "@jupyter-widgets/controls",
          "model_name": "CheckboxModel",
          "model_module_version": "1.5.0",
          "state": {
            "_dom_classes": [],
            "_model_module": "@jupyter-widgets/controls",
            "_model_module_version": "1.5.0",
            "_model_name": "CheckboxModel",
            "_view_count": null,
            "_view_module": "@jupyter-widgets/controls",
            "_view_module_version": "1.5.0",
            "_view_name": "CheckboxView",
            "description": "EAMENA",
            "description_tooltip": null,
            "disabled": false,
            "indent": true,
            "layout": "IPY_MODEL_d6e566e715d348a0a83dbe058ca794df",
            "style": "IPY_MODEL_04cc9f3a3b1e4937b0c0ffafe6f5f602",
            "value": true
          }
        },
        "50d8b32156d4441a93750eaa9cdf59f7": {
          "model_module": "@jupyter-widgets/output",
          "model_name": "OutputModel",
          "model_module_version": "1.0.0",
          "state": {
            "_dom_classes": [],
            "_model_module": "@jupyter-widgets/output",
            "_model_module_version": "1.0.0",
            "_model_name": "OutputModel",
            "_view_count": null,
            "_view_module": "@jupyter-widgets/output",
            "_view_module_version": "1.0.0",
            "_view_name": "OutputView",
            "layout": "IPY_MODEL_d1239fd655a94261a7e7164da1844967",
            "msg_id": "",
            "outputs": []
          }
        },
        "0d98fee51304460c8a8c729ae555d0ac": {
          "model_module": "@jupyter-widgets/base",
          "model_name": "LayoutModel",
          "model_module_version": "1.2.0",
          "state": {
            "_model_module": "@jupyter-widgets/base",
            "_model_module_version": "1.2.0",
            "_model_name": "LayoutModel",
            "_view_count": null,
            "_view_module": "@jupyter-widgets/base",
            "_view_module_version": "1.2.0",
            "_view_name": "LayoutView",
            "align_content": null,
            "align_items": null,
            "align_self": null,
            "border": null,
            "bottom": null,
            "display": null,
            "flex": null,
            "flex_flow": null,
            "grid_area": null,
            "grid_auto_columns": null,
            "grid_auto_flow": null,
            "grid_auto_rows": null,
            "grid_column": null,
            "grid_gap": null,
            "grid_row": null,
            "grid_template_areas": null,
            "grid_template_columns": null,
            "grid_template_rows": null,
            "height": null,
            "justify_content": null,
            "justify_items": null,
            "left": null,
            "margin": null,
            "max_height": null,
            "max_width": null,
            "min_height": null,
            "min_width": null,
            "object_fit": null,
            "object_position": null,
            "order": null,
            "overflow": null,
            "overflow_x": null,
            "overflow_y": null,
            "padding": null,
            "right": null,
            "top": null,
            "visibility": null,
            "width": null
          }
        },
        "97fa5e584ff44d2c8943de40fb7c0c80": {
          "model_module": "@jupyter-widgets/base",
          "model_name": "LayoutModel",
          "model_module_version": "1.2.0",
          "state": {
            "_model_module": "@jupyter-widgets/base",
            "_model_module_version": "1.2.0",
            "_model_name": "LayoutModel",
            "_view_count": null,
            "_view_module": "@jupyter-widgets/base",
            "_view_module_version": "1.2.0",
            "_view_name": "LayoutView",
            "align_content": null,
            "align_items": null,
            "align_self": null,
            "border": null,
            "bottom": null,
            "display": null,
            "flex": null,
            "flex_flow": null,
            "grid_area": null,
            "grid_auto_columns": null,
            "grid_auto_flow": null,
            "grid_auto_rows": null,
            "grid_column": null,
            "grid_gap": null,
            "grid_row": null,
            "grid_template_areas": null,
            "grid_template_columns": null,
            "grid_template_rows": null,
            "height": null,
            "justify_content": null,
            "justify_items": null,
            "left": null,
            "margin": null,
            "max_height": null,
            "max_width": null,
            "min_height": null,
            "min_width": null,
            "object_fit": null,
            "object_position": null,
            "order": null,
            "overflow": null,
            "overflow_x": null,
            "overflow_y": null,
            "padding": null,
            "right": null,
            "top": null,
            "visibility": null,
            "width": null
          }
        },
        "4e556be6dac74c0bb04dac6c305306a5": {
          "model_module": "@jupyter-widgets/controls",
          "model_name": "DescriptionStyleModel",
          "model_module_version": "1.5.0",
          "state": {
            "_model_module": "@jupyter-widgets/controls",
            "_model_module_version": "1.5.0",
            "_model_name": "DescriptionStyleModel",
            "_view_count": null,
            "_view_module": "@jupyter-widgets/base",
            "_view_module_version": "1.2.0",
            "_view_name": "StyleView",
            "description_width": ""
          }
        },
        "7c8ff6a7d2d5417a8c5a5137a2f1f0b7": {
          "model_module": "@jupyter-widgets/base",
          "model_name": "LayoutModel",
          "model_module_version": "1.2.0",
          "state": {
            "_model_module": "@jupyter-widgets/base",
            "_model_module_version": "1.2.0",
            "_model_name": "LayoutModel",
            "_view_count": null,
            "_view_module": "@jupyter-widgets/base",
            "_view_module_version": "1.2.0",
            "_view_name": "LayoutView",
            "align_content": null,
            "align_items": null,
            "align_self": null,
            "border": null,
            "bottom": null,
            "display": null,
            "flex": null,
            "flex_flow": null,
            "grid_area": null,
            "grid_auto_columns": null,
            "grid_auto_flow": null,
            "grid_auto_rows": null,
            "grid_column": null,
            "grid_gap": null,
            "grid_row": null,
            "grid_template_areas": null,
            "grid_template_columns": null,
            "grid_template_rows": null,
            "height": null,
            "justify_content": null,
            "justify_items": null,
            "left": null,
            "margin": null,
            "max_height": null,
            "max_width": null,
            "min_height": null,
            "min_width": null,
            "object_fit": null,
            "object_position": null,
            "order": null,
            "overflow": null,
            "overflow_x": null,
            "overflow_y": null,
            "padding": null,
            "right": null,
            "top": null,
            "visibility": null,
            "width": null
          }
        },
        "4e587780f947484b9d31bfbea1cd72ac": {
          "model_module": "@jupyter-widgets/controls",
          "model_name": "DescriptionStyleModel",
          "model_module_version": "1.5.0",
          "state": {
            "_model_module": "@jupyter-widgets/controls",
            "_model_module_version": "1.5.0",
            "_model_name": "DescriptionStyleModel",
            "_view_count": null,
            "_view_module": "@jupyter-widgets/base",
            "_view_module_version": "1.2.0",
            "_view_name": "StyleView",
            "description_width": ""
          }
        },
        "5c020c87336748e1839cda523ce2f5f1": {
          "model_module": "@jupyter-widgets/base",
          "model_name": "LayoutModel",
          "model_module_version": "1.2.0",
          "state": {
            "_model_module": "@jupyter-widgets/base",
            "_model_module_version": "1.2.0",
            "_model_name": "LayoutModel",
            "_view_count": null,
            "_view_module": "@jupyter-widgets/base",
            "_view_module_version": "1.2.0",
            "_view_name": "LayoutView",
            "align_content": null,
            "align_items": null,
            "align_self": null,
            "border": null,
            "bottom": null,
            "display": null,
            "flex": null,
            "flex_flow": null,
            "grid_area": null,
            "grid_auto_columns": null,
            "grid_auto_flow": null,
            "grid_auto_rows": null,
            "grid_column": null,
            "grid_gap": null,
            "grid_row": null,
            "grid_template_areas": null,
            "grid_template_columns": null,
            "grid_template_rows": null,
            "height": null,
            "justify_content": null,
            "justify_items": null,
            "left": null,
            "margin": null,
            "max_height": null,
            "max_width": null,
            "min_height": null,
            "min_width": null,
            "object_fit": null,
            "object_position": null,
            "order": null,
            "overflow": null,
            "overflow_x": null,
            "overflow_y": null,
            "padding": null,
            "right": null,
            "top": null,
            "visibility": null,
            "width": null
          }
        },
        "70c6f5f77c6f4f4db38038992e14772c": {
          "model_module": "@jupyter-widgets/controls",
          "model_name": "DescriptionStyleModel",
          "model_module_version": "1.5.0",
          "state": {
            "_model_module": "@jupyter-widgets/controls",
            "_model_module_version": "1.5.0",
            "_model_name": "DescriptionStyleModel",
            "_view_count": null,
            "_view_module": "@jupyter-widgets/base",
            "_view_module_version": "1.2.0",
            "_view_name": "StyleView",
            "description_width": ""
          }
        },
        "9cd8b085813f4aed9d131ca3e90b38a7": {
          "model_module": "@jupyter-widgets/base",
          "model_name": "LayoutModel",
          "model_module_version": "1.2.0",
          "state": {
            "_model_module": "@jupyter-widgets/base",
            "_model_module_version": "1.2.0",
            "_model_name": "LayoutModel",
            "_view_count": null,
            "_view_module": "@jupyter-widgets/base",
            "_view_module_version": "1.2.0",
            "_view_name": "LayoutView",
            "align_content": null,
            "align_items": null,
            "align_self": null,
            "border": null,
            "bottom": null,
            "display": null,
            "flex": null,
            "flex_flow": null,
            "grid_area": null,
            "grid_auto_columns": null,
            "grid_auto_flow": null,
            "grid_auto_rows": null,
            "grid_column": null,
            "grid_gap": null,
            "grid_row": null,
            "grid_template_areas": null,
            "grid_template_columns": null,
            "grid_template_rows": null,
            "height": null,
            "justify_content": null,
            "justify_items": null,
            "left": null,
            "margin": null,
            "max_height": null,
            "max_width": null,
            "min_height": null,
            "min_width": null,
            "object_fit": null,
            "object_position": null,
            "order": null,
            "overflow": null,
            "overflow_x": null,
            "overflow_y": null,
            "padding": null,
            "right": null,
            "top": null,
            "visibility": null,
            "width": null
          }
        },
        "0461f138f17a403c9dc2cdd58785d467": {
          "model_module": "@jupyter-widgets/controls",
          "model_name": "DescriptionStyleModel",
          "model_module_version": "1.5.0",
          "state": {
            "_model_module": "@jupyter-widgets/controls",
            "_model_module_version": "1.5.0",
            "_model_name": "DescriptionStyleModel",
            "_view_count": null,
            "_view_module": "@jupyter-widgets/base",
            "_view_module_version": "1.2.0",
            "_view_name": "StyleView",
            "description_width": ""
          }
        },
        "d6e566e715d348a0a83dbe058ca794df": {
          "model_module": "@jupyter-widgets/base",
          "model_name": "LayoutModel",
          "model_module_version": "1.2.0",
          "state": {
            "_model_module": "@jupyter-widgets/base",
            "_model_module_version": "1.2.0",
            "_model_name": "LayoutModel",
            "_view_count": null,
            "_view_module": "@jupyter-widgets/base",
            "_view_module_version": "1.2.0",
            "_view_name": "LayoutView",
            "align_content": null,
            "align_items": null,
            "align_self": null,
            "border": null,
            "bottom": null,
            "display": null,
            "flex": null,
            "flex_flow": null,
            "grid_area": null,
            "grid_auto_columns": null,
            "grid_auto_flow": null,
            "grid_auto_rows": null,
            "grid_column": null,
            "grid_gap": null,
            "grid_row": null,
            "grid_template_areas": null,
            "grid_template_columns": null,
            "grid_template_rows": null,
            "height": null,
            "justify_content": null,
            "justify_items": null,
            "left": null,
            "margin": null,
            "max_height": null,
            "max_width": null,
            "min_height": null,
            "min_width": null,
            "object_fit": null,
            "object_position": null,
            "order": null,
            "overflow": null,
            "overflow_x": null,
            "overflow_y": null,
            "padding": null,
            "right": null,
            "top": null,
            "visibility": null,
            "width": null
          }
        },
        "04cc9f3a3b1e4937b0c0ffafe6f5f602": {
          "model_module": "@jupyter-widgets/controls",
          "model_name": "DescriptionStyleModel",
          "model_module_version": "1.5.0",
          "state": {
            "_model_module": "@jupyter-widgets/controls",
            "_model_module_version": "1.5.0",
            "_model_name": "DescriptionStyleModel",
            "_view_count": null,
            "_view_module": "@jupyter-widgets/base",
            "_view_module_version": "1.2.0",
            "_view_name": "StyleView",
            "description_width": ""
          }
        },
        "d1239fd655a94261a7e7164da1844967": {
          "model_module": "@jupyter-widgets/base",
          "model_name": "LayoutModel",
          "model_module_version": "1.2.0",
          "state": {
            "_model_module": "@jupyter-widgets/base",
            "_model_module_version": "1.2.0",
            "_model_name": "LayoutModel",
            "_view_count": null,
            "_view_module": "@jupyter-widgets/base",
            "_view_module_version": "1.2.0",
            "_view_name": "LayoutView",
            "align_content": null,
            "align_items": null,
            "align_self": null,
            "border": null,
            "bottom": null,
            "display": null,
            "flex": null,
            "flex_flow": null,
            "grid_area": null,
            "grid_auto_columns": null,
            "grid_auto_flow": null,
            "grid_auto_rows": null,
            "grid_column": null,
            "grid_gap": null,
            "grid_row": null,
            "grid_template_areas": null,
            "grid_template_columns": null,
            "grid_template_rows": null,
            "height": null,
            "justify_content": null,
            "justify_items": null,
            "left": null,
            "margin": null,
            "max_height": null,
            "max_width": null,
            "min_height": null,
            "min_width": null,
            "object_fit": null,
            "object_position": null,
            "order": null,
            "overflow": null,
            "overflow_x": null,
            "overflow_y": null,
            "padding": null,
            "right": null,
            "top": null,
            "visibility": null,
            "width": null
          }
        }
      }
    }
  },
  "nbformat": 4,
  "nbformat_minor": 0
}