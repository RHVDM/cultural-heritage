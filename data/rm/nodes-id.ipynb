{
 "cells": [
  {
   "cell_type": "markdown",
   "metadata": {},
   "source": [
    "# Collect nodes' names and UUIDs from resource models"
   ]
  },
  {
   "cell_type": "markdown",
   "metadata": {},
   "source": [
    "Load librairies"
   ]
  },
  {
   "cell_type": "code",
   "execution_count": null,
   "metadata": {},
   "outputs": [],
   "source": [
    "import os\n",
    "import requests\n",
    "import json\n",
    "import pandas as pd\n",
    "import re\n",
    "from google.colab import files"
   ]
  },
  {
   "cell_type": "markdown",
   "metadata": {},
   "source": [
    "Select an RM"
   ]
  },
  {
   "cell_type": "code",
   "execution_count": null,
   "metadata": {},
   "outputs": [],
   "source": [
    "url = \"https://raw.githubusercontent.com/achp-project/prj-eamena-marea/main/resource_models/Heritage%20Place.json\""
   ]
  },
  {
   "cell_type": "markdown",
   "metadata": {},
   "source": [
    "Collect the data and export it as a new TSV file"
   ]
  },
  {
   "cell_type": "code",
   "execution_count": null,
   "metadata": {},
   "outputs": [],
   "source": [
    "pattern = r'achp-project/(.*?)/main'\n",
    "project = re.search(pattern, url)\n",
    "project_name = project.group(1) + \"-rm-nodes.tsv\"\n",
    "print(project_name)\n",
    "\n",
    "response = requests.get(url)\n",
    "graph_data = json.loads(response.text)\n",
    "root_node_id = graph_data['graph'][0]['root']['nodeid']\n",
    "df_nodes = pd.DataFrame(columns=['rm_node_name', 'rm_node_uuid'])  \n",
    "for i in range(1, len(graph_data['graph'][0]['nodes'])):\n",
    "    new_row = [graph_data['graph'][0]['nodes'][i]['name'], graph_data['graph'][0]['nodes'][i]['nodeid']]\n",
    "    df_nodes.loc[i] = new_row\n",
    "\n",
    "# only work locally, not from Colab\n",
    "# outDir = os.path.dirname(os.path.realpath(__file__)) + '\\\\'\n",
    "outDir = '/content/'\n",
    "file_path = outDir + project_name\n",
    "# print(file_path)\n",
    "df_nodes.to_csv(file_path, sep='\\t', index=False)"
   ]
  },
  {
   "cell_type": "markdown",
   "metadata": {},
   "source": [
    "Download it"
   ]
  },
  {
   "cell_type": "code",
   "execution_count": null,
   "metadata": {},
   "outputs": [],
   "source": [
    "files.download(file_path)"
   ]
  }
 ],
 "metadata": {
  "kernelspec": {
   "display_name": "Python 3",
   "language": "python",
   "name": "python3"
  },
  "language_info": {
   "name": "python",
   "version": "3.11.2"
  },
  "orig_nbformat": 4
 },
 "nbformat": 4,
 "nbformat_minor": 2
}
